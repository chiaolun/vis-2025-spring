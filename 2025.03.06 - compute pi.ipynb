{
 "cells": [
  {
   "cell_type": "code",
   "execution_count": 3,
   "id": "2c450c7b-b527-4566-a6e5-48e34779ed69",
   "metadata": {},
   "outputs": [],
   "source": [
    "import sympy as sm\n",
    "from numba import njit\n",
    "import numpy as np"
   ]
  },
  {
   "cell_type": "markdown",
   "id": "e050578b-623d-4e9b-8de4-2101f285eecf",
   "metadata": {},
   "source": [
    "# Grid method"
   ]
  },
  {
   "cell_type": "code",
   "execution_count": 3,
   "id": "40d30195-f1d0-4a2e-bccf-9528638eabcb",
   "metadata": {},
   "outputs": [],
   "source": [
    "npoints = 1000"
   ]
  },
  {
   "cell_type": "code",
   "execution_count": 4,
   "id": "7523607c-a869-4623-b4bd-a4bb10a2948c",
   "metadata": {},
   "outputs": [],
   "source": [
    "xs = [(x - (npoints - 1) / 2) / ((npoints - 1) / 2) for x in range(npoints)]"
   ]
  },
  {
   "cell_type": "code",
   "execution_count": 5,
   "id": "e4e2a946-990a-4f48-9d38-a6bfdf5003e6",
   "metadata": {},
   "outputs": [],
   "source": [
    "in_circle = [int(x**2 + y**2 < 1**2) for x in xs for y in xs]"
   ]
  },
  {
   "cell_type": "code",
   "execution_count": 6,
   "id": "cc60c777-fef6-4dce-941f-e2d6c18723c8",
   "metadata": {},
   "outputs": [
    {
     "data": {
      "text/plain": [
       "3.135056"
      ]
     },
     "execution_count": 6,
     "metadata": {},
     "output_type": "execute_result"
    }
   ],
   "source": [
    "sum(in_circle) / len(in_circle) * 4"
   ]
  },
  {
   "cell_type": "code",
   "execution_count": 7,
   "id": "d18d8acd-26cb-41f9-aee9-33378eaf79ca",
   "metadata": {},
   "outputs": [],
   "source": [
    "@njit\n",
    "def grid_circle(npoints):\n",
    "    xs = [(x - (npoints - 1) / 2) / ((npoints - 1) / 2) for x in range(npoints)]\n",
    "    ntotal = len(xs)**2\n",
    "    in_circle = 0\n",
    "    for x in xs:\n",
    "        for y in xs:\n",
    "            if x**2 + y**2 < 1:\n",
    "                in_circle += 1\n",
    "    return in_circle / ntotal * 4"
   ]
  },
  {
   "cell_type": "code",
   "execution_count": 8,
   "id": "0c1e646d-fbaf-4495-9f26-e14ceb569ce5",
   "metadata": {},
   "outputs": [
    {
     "name": "stdout",
     "output_type": "stream",
     "text": [
      "CPU times: user 986 ms, sys: 37.2 ms, total: 1.02 s\n",
      "Wall time: 1.12 s\n"
     ]
    },
    {
     "data": {
      "text/plain": [
       "3.14149408984375"
      ]
     },
     "execution_count": 8,
     "metadata": {},
     "output_type": "execute_result"
    }
   ],
   "source": [
    "%%time\n",
    "grid_circle(64000)"
   ]
  },
  {
   "cell_type": "code",
   "execution_count": 9,
   "id": "6dc53680-e43f-4961-a03d-202f6acfd37e",
   "metadata": {},
   "outputs": [
    {
     "name": "stdout",
     "output_type": "stream",
     "text": [
      "CPU times: user 2.66 s, sys: 3.91 ms, total: 2.66 s\n",
      "Wall time: 2.66 s\n"
     ]
    },
    {
     "data": {
      "text/plain": [
       "3.14154325"
      ]
     },
     "execution_count": 9,
     "metadata": {},
     "output_type": "execute_result"
    }
   ],
   "source": [
    "%%time\n",
    "grid_circle(128000)"
   ]
  },
  {
   "cell_type": "markdown",
   "id": "dec84980-d727-4fc1-90db-9473d8b615c3",
   "metadata": {},
   "source": [
    "# Archimedes method\n",
    "https://www.craig-wood.com/nick/articles/pi-archimedes/\n",
    "\n",
    "uses square root"
   ]
  },
  {
   "cell_type": "code",
   "execution_count": null,
   "id": "ff66bb82-ab2f-45ac-9d38-a852509869fe",
   "metadata": {},
   "outputs": [],
   "source": []
  }
 ],
 "metadata": {
  "kernelspec": {
   "display_name": "Python 3 (ipykernel)",
   "language": "python",
   "name": "python3"
  },
  "language_info": {
   "codemirror_mode": {
    "name": "ipython",
    "version": 3
   },
   "file_extension": ".py",
   "mimetype": "text/x-python",
   "name": "python",
   "nbconvert_exporter": "python",
   "pygments_lexer": "ipython3",
   "version": "3.12.8"
  }
 },
 "nbformat": 4,
 "nbformat_minor": 5
}
